{
 "cells": [
  {
   "cell_type": "code",
   "execution_count": 1,
   "id": "d4b27ecd-0d18-46d5-8151-c3a556e4df8a",
   "metadata": {
    "scrolled": true
   },
   "outputs": [
    {
     "name": "stdout",
     "output_type": "stream",
     "text": [
      "H:\\Python\\BDSL_THESIS\\TRAIN\n",
      " Volume in drive H is SSD\n",
      " Volume Serial Number is 1E82-13E0\n",
      "\n",
      " Directory of H:\\Python\\BDSL_THESIS\\TRAIN\n",
      "\n",
      "05/29/2024  08:46 PM    <DIR>          .\n",
      "05/29/2024  08:45 PM    <DIR>          ..\n",
      "05/29/2024  08:46 PM    <DIR>          0\n",
      "05/29/2024  08:46 PM    <DIR>          1\n",
      "05/29/2024  08:46 PM    <DIR>          2\n",
      "05/29/2024  08:46 PM    <DIR>          3\n",
      "05/29/2024  08:46 PM    <DIR>          4\n",
      "05/29/2024  08:46 PM    <DIR>          5\n",
      "05/29/2024  08:46 PM    <DIR>          6\n",
      "05/29/2024  08:46 PM    <DIR>          7\n",
      "               0 File(s)              0 bytes\n",
      "              10 Dir(s)  54,725,414,912 bytes free\n"
     ]
    }
   ],
   "source": [
    "import os\n",
    "import cv2\n",
    "import numpy as np\n",
    "import pandas as pd\n",
    "from glob import glob\n",
    "from PIL import Image\n",
    "import matplotlib.pyplot as plt\n",
    "%cd H:\\Python\\BDSL_THESIS\\TRAIN\n",
    "%ls"
   ]
  },
  {
   "cell_type": "code",
   "execution_count": 3,
   "id": "ba35c1a4",
   "metadata": {},
   "outputs": [
    {
     "name": "stdout",
     "output_type": "stream",
     "text": [
      "0\n",
      "1\n",
      "2\n",
      "3\n",
      "4\n",
      "5\n",
      "6\n",
      "7\n"
     ]
    }
   ],
   "source": [
    "class_list=['0', '1', '2', '3', '4', '5', '6', '7']\n",
    "dataset_path = '/Python/BDSL_THESIS/TRAIN/'\n",
    "image_paths = []\n",
    "labels = []\n",
    "for i in class_list:\n",
    "    for folder_name in os.listdir(dataset_path):\n",
    "        if folder_name == i:\n",
    "            folder_path = os.path.join(dataset_path, folder_name)\n",
    "            image_paths.append(folder_path)\n",
    "\n",
    "for i in image_paths:\n",
    "    print(i.rsplit('/', 1)[-1])"
   ]
  },
  {
   "cell_type": "code",
   "execution_count": 4,
   "id": "62febc89",
   "metadata": {},
   "outputs": [],
   "source": [
    "dataset_path = '/Python/BDSL_THESIS/TRAIN/'"
   ]
  },
  {
   "cell_type": "code",
   "execution_count": 5,
   "id": "f26696ea",
   "metadata": {},
   "outputs": [
    {
     "name": "stdout",
     "output_type": "stream",
     "text": [
      "(2292, 32, 32, 3)\n",
      "(2292,)\n"
     ]
    }
   ],
   "source": [
    "train_images = []\n",
    "train_labels = []\n",
    "for class_name in os.listdir(dataset_path):\n",
    "    if class_name not in class_list:\n",
    "        continue\n",
    "    class_path = os.path.join(dataset_path, class_name)\n",
    "    for image_name in os.listdir(class_path):\n",
    "        image_path = os.path.join(class_path, image_name)\n",
    "        image = cv2.imread(image_path)\n",
    "        image = cv2.resize(image, (32,32), interpolation = cv2.INTER_AREA)\n",
    "        image = image.astype('float32')\n",
    "        min_val = np.min(image)\n",
    "        max_val = np.max(image)\n",
    "        iamge = image - min_val\n",
    "        image = image / (max_val - min_val)\n",
    "        train_images.append(image)\n",
    "        label = int(class_name)\n",
    "        train_labels.append(label)\n",
    "train_images = np.array(train_images)\n",
    "train_labels = np.array(train_labels)\n",
    "\n",
    "print(train_images.shape)\n",
    "print(train_labels.shape)"
   ]
  },
  {
   "cell_type": "code",
   "execution_count": 6,
   "id": "ba03515b",
   "metadata": {},
   "outputs": [
    {
     "name": "stdout",
     "output_type": "stream",
     "text": [
      "Found 2292 images belonging to 8 classes.\n",
      "Number of classes: 8\n",
      "Class indices: {'0': 0, '1': 1, '2': 2, '3': 3, '4': 4, '5': 5, '6': 6, '7': 7}\n"
     ]
    }
   ],
   "source": [
    "from keras.preprocessing.image import ImageDataGenerator\n",
    "\n",
    "batch_size = 32\n",
    "\n",
    "datagen = ImageDataGenerator(\n",
    "    rescale=1./255,\n",
    "    shear_range=0.2,\n",
    "    zoom_range=0.2,\n",
    "    horizontal_flip=True)\n",
    "\n",
    "train_generator = datagen.flow_from_directory(\n",
    "    dataset_path,\n",
    "    target_size=(224, 224),\n",
    "    batch_size=batch_size,\n",
    "    class_mode='categorical',\n",
    "    classes=class_list,\n",
    "    shuffle=True)\n",
    "\n",
    "num_classes = train_generator.num_classes\n",
    "class_indices = train_generator.class_indices\n",
    "print('Number of classes:', num_classes)\n",
    "print('Class indices:', class_indices)"
   ]
  },
  {
   "cell_type": "code",
   "execution_count": 15,
   "id": "6e6b40ee",
   "metadata": {},
   "outputs": [
    {
     "name": "stdout",
     "output_type": "stream",
     "text": [
      "(2292, 32, 32, 3)\n",
      "(2292,)\n"
     ]
    }
   ],
   "source": [
    "cv2.imshow('Image', train_images[299]*1)\n",
    "\n",
    "print(train_images.shape)\n",
    "print(train_labels.shape)"
   ]
  },
  {
   "cell_type": "code",
   "execution_count": 16,
   "id": "9d3f4cd8",
   "metadata": {},
   "outputs": [],
   "source": [
    "num_new_images = 2292*2\n",
    "\n",
    "datagen = ImageDataGenerator(rotation_range=20, width_shift_range=0.1,\n",
    "                             height_shift_range=0.1, shear_range=0.1,\n",
    "                             zoom_range=0.1, horizontal_flip=True,\n",
    "                             fill_mode='nearest')\n",
    "\n",
    "# Generate new images and labels\n",
    "new_images = []\n",
    "new_labels = []\n",
    "for i in range(num_new_images):\n",
    "    batch = datagen.flow(train_images, train_labels, batch_size=1)\n",
    "    new_image, new_label = batch.next()\n",
    "    new_images.append(new_image[0])\n",
    "    new_labels.append(new_label[0])\n",
    "\n",
    "# Convert the images and labels to NumPy arrays\n",
    "new_images = np.array(new_images)\n",
    "new_labels = np.array(new_labels)\n",
    "\n",
    "# Concatenate the new images and labels with the original ones\n",
    "train_images = np.concatenate([train_images, new_images])\n",
    "train_labels = np.concatenate([train_labels, new_labels])"
   ]
  },
  {
   "cell_type": "code",
   "execution_count": 17,
   "id": "71900fd5",
   "metadata": {},
   "outputs": [],
   "source": [
    "np.save('/Python/BDSL_THESIS/npy/train_img.npy', train_images)\n",
    "np.save('/Python/BDSL_THESIS/npy/train_label.npy', train_labels)"
   ]
  },
  {
   "cell_type": "code",
   "execution_count": 19,
   "id": "3fa52288",
   "metadata": {},
   "outputs": [
    {
     "name": "stdout",
     "output_type": "stream",
     "text": [
      "(320, 32, 32, 3)\n",
      "(320,)\n"
     ]
    }
   ],
   "source": [
    "dataset_path = '/Python/BDSL_THESIS/TEST/'\n",
    "train_images = []\n",
    "train_labels = []\n",
    "for class_name in os.listdir(dataset_path):\n",
    "    if class_name not in class_list:\n",
    "        continue\n",
    "    class_path = os.path.join(dataset_path, class_name)\n",
    "    for image_name in os.listdir(class_path):\n",
    "        image_path = os.path.join(class_path, image_name)\n",
    "        image = cv2.imread(image_path)\n",
    "        image = cv2.resize(image, (32,32), interpolation = cv2.INTER_AREA)\n",
    "        image = image.astype('float32')\n",
    "        min_val = np.min(image)\n",
    "        max_val = np.max(image)\n",
    "        iamge = image - min_val\n",
    "        image = image / (max_val - min_val)\n",
    "        train_images.append(image)\n",
    "        label = int(class_name)\n",
    "        train_labels.append(label)\n",
    "train_images = np.array(train_images)\n",
    "train_labels = np.array(train_labels)\n",
    "\n",
    "print(train_images.shape)\n",
    "print(train_labels.shape)"
   ]
  },
  {
   "cell_type": "code",
   "execution_count": 20,
   "id": "bf05383d",
   "metadata": {},
   "outputs": [],
   "source": [
    "np.save('/Python/BDSL_THESIS/npy/test_img.npy', train_images)\n",
    "np.save('/Python/BDSL_THESIS/npy/test_label.npy', train_labels)"
   ]
  },
  {
   "cell_type": "code",
   "execution_count": null,
   "id": "7b388797",
   "metadata": {},
   "outputs": [],
   "source": []
  }
 ],
 "metadata": {
  "kernelspec": {
   "display_name": "Python 3 (ipykernel)",
   "language": "python",
   "name": "python3"
  },
  "language_info": {
   "codemirror_mode": {
    "name": "ipython",
    "version": 3
   },
   "file_extension": ".py",
   "mimetype": "text/x-python",
   "name": "python",
   "nbconvert_exporter": "python",
   "pygments_lexer": "ipython3",
   "version": "3.7.1"
  }
 },
 "nbformat": 4,
 "nbformat_minor": 5
}
